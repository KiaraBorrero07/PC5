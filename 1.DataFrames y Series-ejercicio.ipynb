{
 "cells": [
  {
   "cell_type": "markdown",
   "metadata": {},
   "source": [
    "# Importar Pandas"
   ]
  },
  {
   "cell_type": "code",
   "execution_count": 1,
   "metadata": {},
   "outputs": [],
   "source": [
    "#importa pandas\n",
    "import pandas as pd"
   ]
  },
  {
   "cell_type": "markdown",
   "metadata": {},
   "source": [
    "# Crear una Serie"
   ]
  },
  {
   "cell_type": "markdown",
   "metadata": {},
   "source": [
    "Explore series en python en el siguiente [link](https://pandas.pydata.org/pandas-docs/stable/user_guide/10min.html) en las primeras lineas del documento"
   ]
  },
  {
   "cell_type": "code",
   "execution_count": 2,
   "metadata": {
    "tags": []
   },
   "outputs": [
    {
     "name": "stdout",
     "output_type": "stream",
     "text": [
      "0    10\n",
      "1    20\n",
      "2    10\n",
      "dtype: int64\n"
     ]
    }
   ],
   "source": [
    "# Crea una Serie de los numeros 10, 20 and 10.\n",
    "\n",
    "import pandas as pd\n",
    "serie = pd.Series([10,20,10])\n",
    "print(serie)"
   ]
  },
  {
   "cell_type": "code",
   "execution_count": 47,
   "metadata": {
    "tags": []
   },
   "outputs": [
    {
     "name": "stdout",
     "output_type": "stream",
     "text": [
      "0     rojo\n",
      "1    verde\n",
      "2     azul\n",
      "dtype: object\n"
     ]
    }
   ],
   "source": [
    "# Crea una Serie con tres objetos: 'rojo', 'verde', 'azul'\n",
    "\n",
    "import pandas as pd \n",
    "\n",
    "serie_colors = pd.Series(['rojo', 'verde', 'azul'])\n",
    "print(serie_colors)\n"
   ]
  },
  {
   "cell_type": "markdown",
   "metadata": {},
   "source": [
    "# Crear un Dataframe"
   ]
  },
  {
   "cell_type": "code",
   "execution_count": 5,
   "metadata": {
    "tags": []
   },
   "outputs": [
    {
     "name": "stdout",
     "output_type": "stream",
     "text": [
      "Empty DataFrame\n",
      "Columns: []\n",
      "Index: []\n"
     ]
    }
   ],
   "source": [
    "# Crea un dataframe vacío llamado 'df'\n",
    "import pandas as pd\n",
    "\n",
    "df = pd.DataFrame()\n",
    "print(df)\n"
   ]
  },
  {
   "cell_type": "code",
   "execution_count": null,
   "metadata": {
    "tags": []
   },
   "outputs": [
    {
     "name": "stdout",
     "output_type": "stream",
     "text": [
      "   Nueva Columna\n",
      "0             10\n",
      "1             20\n",
      "2             10\n"
     ]
    }
   ],
   "source": [
    "# Crea una nueva columna en el dataframe, y asignale la primera serie que has creado\n",
    "import pandas as pd\n",
    "\n",
    "#Crear la serie \n",
    "serie = pd.Series([10, 20, 10])\n",
    "\n",
    "#Crear el dataframe con la nueva columna \n",
    "df = pd.DataFrame({'Nueva Columna' : serie})\n",
    "\n",
    "#Para imprimir el dataframe\n",
    "print(df)"
   ]
  },
  {
   "cell_type": "code",
   "execution_count": 53,
   "metadata": {},
   "outputs": [
    {
     "name": "stdout",
     "output_type": "stream",
     "text": [
      "   serie serie_colors\n",
      "0     10         rojo\n",
      "1     20        verde\n",
      "2     10         azul\n"
     ]
    }
   ],
   "source": [
    "# Crea otra columna en el dataframe y asignale la segunda Serie que has creado\n",
    "import pandas as pd\n",
    "\n",
    "# Crear un DataFrame vacío\n",
    "df = pd.DataFrame()\n",
    "\n",
    "# Para crear la primera serie y asignar los valores [10, 20, 10]\n",
    "df['serie'] = [10, 20, 10]\n",
    "\n",
    "# Para crear la columna 'Colors' y asignar los valores ['rojo', 'verde', 'azul']\n",
    "df['serie_colors'] = ['rojo', 'verde', 'azul']\n",
    "\n",
    "# Imprimir el DataFrame\n",
    "print(df)"
   ]
  },
  {
   "cell_type": "markdown",
   "metadata": {},
   "source": [
    "# Leer un dataframe"
   ]
  },
  {
   "cell_type": "code",
   "execution_count": 1,
   "metadata": {
    "tags": []
   },
   "outputs": [
    {
     "name": "stdout",
     "output_type": "stream",
     "text": [
      "                                                   URL  \\\n",
      "0        http://marvel.wikia.com/Henry_Pym_(Earth-616)   \n",
      "1    http://marvel.wikia.com/Janet_van_Dyne_(Earth-...   \n",
      "2    http://marvel.wikia.com/Anthony_Stark_(Earth-616)   \n",
      "3    http://marvel.wikia.com/Robert_Bruce_Banner_(E...   \n",
      "4     http://marvel.wikia.com/Thor_Odinson_(Earth-616)   \n",
      "..                                                 ...   \n",
      "168   http://marvel.wikia.com/Eric_Brooks_(Earth-616)#   \n",
      "169  http://marvel.wikia.com/Adam_Brashear_(Earth-6...   \n",
      "170  http://marvel.wikia.com/Victor_Alvarez_(Earth-...   \n",
      "171     http://marvel.wikia.com/Ava_Ayala_(Earth-616)#   \n",
      "172         http://marvel.wikia.com/Kaluu_(Earth-616)#   \n",
      "\n",
      "                          nombre  n_apariciones actual  genero  fecha_inicio  \\\n",
      "0      Henry Jonathan \"Hank\" Pym           1269    YES    MALE          1963   \n",
      "1                 Janet van Dyne           1165    YES  FEMALE          1963   \n",
      "2    Anthony Edward \"Tony\" Stark           3068    YES    MALE          1963   \n",
      "3            Robert Bruce Banner           2089    YES    MALE          1963   \n",
      "4                   Thor Odinson           2402    YES    MALE          1963   \n",
      "..                           ...            ...    ...     ...           ...   \n",
      "168                  Eric Brooks            198    YES    MALE          2013   \n",
      "169                Adam Brashear             29    YES    MALE          2014   \n",
      "170               Victor Alvarez             45    YES    MALE          2014   \n",
      "171                    Ava Ayala             49    YES  FEMALE          2014   \n",
      "172                        Kaluu             35    YES    MALE          2015   \n",
      "\n",
      "                                                 Notes  \n",
      "0    Merged with Ultron in Rage of Ultron Vol. 1. A...  \n",
      "1    Dies in Secret Invasion V1:I8. Actually was se...  \n",
      "2    Death: \"Later while under the influence of Imm...  \n",
      "3    Dies in Ghosts of the Future arc. However \"he ...  \n",
      "4    Dies in Fear Itself brought back because that'...  \n",
      "..                                                 ...  \n",
      "168                                                NaN  \n",
      "169                                                NaN  \n",
      "170                                                NaN  \n",
      "171                                                NaN  \n",
      "172                                                NaN  \n",
      "\n",
      "[173 rows x 7 columns]\n"
     ]
    }
   ],
   "source": [
    "# Lee el archivo llamado 'avengers.csv\" localizado en la carpeta \"data\" y crea un DataFrame, llamado 'avengers'. \n",
    "# El archivo está localizado en \"data/avengers.csv\"\n",
    "\n",
    "import pandas as pd\n",
    "# Ruta al archivo CSV\n",
    "ruta_archivo = 'C:/Users/KIARA/Desktop/PC56/avengers.csv'\n",
    "\n",
    "# Para leer el archivo CSV y crear el DataFrame\n",
    "avengers= pd.read_csv(ruta_archivo)\n",
    "\n",
    "# Para mostrar el DataFrame\n",
    "print(avengers)"
   ]
  },
  {
   "cell_type": "markdown",
   "metadata": {},
   "source": [
    "# Inspeccionar un dataframe"
   ]
  },
  {
   "cell_type": "code",
   "execution_count": 2,
   "metadata": {
    "tags": []
   },
   "outputs": [
    {
     "name": "stdout",
     "output_type": "stream",
     "text": [
      "                                                 URL  \\\n",
      "0      http://marvel.wikia.com/Henry_Pym_(Earth-616)   \n",
      "1  http://marvel.wikia.com/Janet_van_Dyne_(Earth-...   \n",
      "2  http://marvel.wikia.com/Anthony_Stark_(Earth-616)   \n",
      "3  http://marvel.wikia.com/Robert_Bruce_Banner_(E...   \n",
      "4   http://marvel.wikia.com/Thor_Odinson_(Earth-616)   \n",
      "\n",
      "                        nombre  n_apariciones actual  genero  fecha_inicio  \\\n",
      "0    Henry Jonathan \"Hank\" Pym           1269    YES    MALE          1963   \n",
      "1               Janet van Dyne           1165    YES  FEMALE          1963   \n",
      "2  Anthony Edward \"Tony\" Stark           3068    YES    MALE          1963   \n",
      "3          Robert Bruce Banner           2089    YES    MALE          1963   \n",
      "4                 Thor Odinson           2402    YES    MALE          1963   \n",
      "\n",
      "                                               Notes  \n",
      "0  Merged with Ultron in Rage of Ultron Vol. 1. A...  \n",
      "1  Dies in Secret Invasion V1:I8. Actually was se...  \n",
      "2  Death: \"Later while under the influence of Imm...  \n",
      "3  Dies in Ghosts of the Future arc. However \"he ...  \n",
      "4  Dies in Fear Itself brought back because that'...  \n"
     ]
    }
   ],
   "source": [
    "# Muestra las primeras 5 filas del DataFrame.\n",
    "import pandas as pd\n",
    "\n",
    "# Para la ruta del archivo CSV\n",
    "ruta_archivo = \"C:/Users/KIARA/Desktop/PC56/avengers.csv\"\n",
    "\n",
    "# Para cargar el archivo CSV en un DataFrame\n",
    "dataframe = pd.read_csv(ruta_archivo)\n",
    "\n",
    "# Para mostrar las primeras 5 filas del DataFrame\n",
    "primeras_filas = dataframe.head(5)\n",
    "print(primeras_filas)\n"
   ]
  },
  {
   "cell_type": "code",
   "execution_count": 3,
   "metadata": {
    "tags": []
   },
   "outputs": [
    {
     "name": "stdout",
     "output_type": "stream",
     "text": [
      "                                                 URL  \\\n",
      "0      http://marvel.wikia.com/Henry_Pym_(Earth-616)   \n",
      "1  http://marvel.wikia.com/Janet_van_Dyne_(Earth-...   \n",
      "2  http://marvel.wikia.com/Anthony_Stark_(Earth-616)   \n",
      "3  http://marvel.wikia.com/Robert_Bruce_Banner_(E...   \n",
      "4   http://marvel.wikia.com/Thor_Odinson_(Earth-616)   \n",
      "5  http://marvel.wikia.com/Richard_Jones_(Earth-616)   \n",
      "6  http://marvel.wikia.com/Steven_Rogers_(Earth-616)   \n",
      "7   http://marvel.wikia.com/Clint_Barton_(Earth-616)   \n",
      "8  http://marvel.wikia.com/Pietro_Maximoff_(Earth...   \n",
      "9  http://marvel.wikia.com/Wanda_Maximoff_(Earth-...   \n",
      "\n",
      "                        nombre  n_apariciones actual  genero  fecha_inicio  \\\n",
      "0    Henry Jonathan \"Hank\" Pym           1269    YES    MALE          1963   \n",
      "1               Janet van Dyne           1165    YES  FEMALE          1963   \n",
      "2  Anthony Edward \"Tony\" Stark           3068    YES    MALE          1963   \n",
      "3          Robert Bruce Banner           2089    YES    MALE          1963   \n",
      "4                 Thor Odinson           2402    YES    MALE          1963   \n",
      "5       Richard Milhouse Jones            612    YES    MALE          1963   \n",
      "6                Steven Rogers           3458    YES    MALE          1964   \n",
      "7       Clinton Francis Barton           1456    YES    MALE          1965   \n",
      "8              Pietro Maximoff            769    YES    MALE          1965   \n",
      "9               Wanda Maximoff           1214    YES  FEMALE          1965   \n",
      "\n",
      "                                               Notes  \n",
      "0  Merged with Ultron in Rage of Ultron Vol. 1. A...  \n",
      "1  Dies in Secret Invasion V1:I8. Actually was se...  \n",
      "2  Death: \"Later while under the influence of Imm...  \n",
      "3  Dies in Ghosts of the Future arc. However \"he ...  \n",
      "4  Dies in Fear Itself brought back because that'...  \n",
      "5                                                NaN  \n",
      "6    Dies at the end of Civil War. Later comes back.  \n",
      "7  Dies in exploding Kree ship in Averngers Vol. ...  \n",
      "8  Dies in House of M Vol 1 Issue 7. Later comes ...  \n",
      "9  Dies in Uncanny_Avengers_Vol_1_14. Later comes...  \n"
     ]
    }
   ],
   "source": [
    "# Muestra las primeras 10 filas del DataFrame. \n",
    "import pandas as pd\n",
    "\n",
    "# Para leer el archivo CSV y crear el DataFrame\n",
    "data_path = 'C:/Users/KIARA/Desktop/PC56/avengers.csv'\n",
    "df = pd.read_csv(data_path)\n",
    "\n",
    "# Para mostrar las primeras 10 filas del DataFrame\n",
    "primeras_10_filas = df.head(10)\n",
    "print(primeras_10_filas)"
   ]
  },
  {
   "cell_type": "code",
   "execution_count": 4,
   "metadata": {
    "tags": []
   },
   "outputs": [
    {
     "name": "stdout",
     "output_type": "stream",
     "text": [
      "                                                   URL          nombre  \\\n",
      "168   http://marvel.wikia.com/Eric_Brooks_(Earth-616)#     Eric Brooks   \n",
      "169  http://marvel.wikia.com/Adam_Brashear_(Earth-6...   Adam Brashear   \n",
      "170  http://marvel.wikia.com/Victor_Alvarez_(Earth-...  Victor Alvarez   \n",
      "171     http://marvel.wikia.com/Ava_Ayala_(Earth-616)#       Ava Ayala   \n",
      "172         http://marvel.wikia.com/Kaluu_(Earth-616)#           Kaluu   \n",
      "\n",
      "     n_apariciones actual  genero  fecha_inicio Notes  \n",
      "168            198    YES    MALE          2013   NaN  \n",
      "169             29    YES    MALE          2014   NaN  \n",
      "170             45    YES    MALE          2014   NaN  \n",
      "171             49    YES  FEMALE          2014   NaN  \n",
      "172             35    YES    MALE          2015   NaN  \n"
     ]
    }
   ],
   "source": [
    "# Muestra las últimas 5 filas del DataFrame.\n",
    "\n",
    "import pandas as pd\n",
    "\n",
    "# Para leer el archivo CSV y crear el DataFrame\n",
    "data_path = 'C:/Users/KIARA/Desktop/PC56/avengers.csv'\n",
    "df = pd.read_csv(data_path)\n",
    "\n",
    "# Para mostrar las últimas 5 filas del DataFrame\n",
    "ultimas_5_filas = df.tail(5)\n",
    "print(ultimas_5_filas)\n"
   ]
  },
  {
   "cell_type": "markdown",
   "metadata": {},
   "source": [
    "# Tamaño del DataFrame"
   ]
  },
  {
   "cell_type": "code",
   "execution_count": 5,
   "metadata": {
    "tags": []
   },
   "outputs": [
    {
     "name": "stdout",
     "output_type": "stream",
     "text": [
      "(173, 7)\n"
     ]
    }
   ],
   "source": [
    "# Muestra el tamaño del DataFrame\n",
    "import pandas as pd\n",
    "\n",
    "# Para leer el archivo CSV y crear el DataFrame\n",
    "data_path = 'C:/Users/KIARA/Desktop/PC56/avengers.csv'\n",
    "df = pd.read_csv(data_path)\n",
    "\n",
    "# Para mostrar el tamaño del DataFrame\n",
    "tamaño_df = df.shape\n",
    "print(tamaño_df)\n"
   ]
  },
  {
   "cell_type": "markdown",
   "metadata": {},
   "source": [
    "# Data types en un DataFrame"
   ]
  },
  {
   "cell_type": "code",
   "execution_count": 6,
   "metadata": {
    "tags": []
   },
   "outputs": [
    {
     "name": "stdout",
     "output_type": "stream",
     "text": [
      "URL              object\n",
      "nombre           object\n",
      "n_apariciones     int64\n",
      "actual           object\n",
      "genero           object\n",
      "fecha_inicio      int64\n",
      "Notes            object\n",
      "dtype: object\n"
     ]
    }
   ],
   "source": [
    "# Muestra los data types del dataframe\n",
    "import pandas as pd\n",
    "\n",
    "# Para leer el archivo CSV y crear el DataFrame\n",
    "data_path = 'C:/Users/KIARA/Desktop/PC56/avengers.csv'\n",
    "df = pd.read_csv(data_path)\n",
    "\n",
    "# Para mostrar los data types del DataFrame\n",
    "tipos_de_datos = df.dtypes\n",
    "print(tipos_de_datos)\n"
   ]
  },
  {
   "cell_type": "markdown",
   "metadata": {},
   "source": [
    "# Editar el indice (index)"
   ]
  },
  {
   "cell_type": "code",
   "execution_count": 8,
   "metadata": {
    "tags": []
   },
   "outputs": [
    {
     "name": "stdout",
     "output_type": "stream",
     "text": [
      "                                                            URL  \\\n",
      "fecha_inicio                                                      \n",
      "1963              http://marvel.wikia.com/Henry_Pym_(Earth-616)   \n",
      "1963          http://marvel.wikia.com/Janet_van_Dyne_(Earth-...   \n",
      "1963          http://marvel.wikia.com/Anthony_Stark_(Earth-616)   \n",
      "1963          http://marvel.wikia.com/Robert_Bruce_Banner_(E...   \n",
      "1963           http://marvel.wikia.com/Thor_Odinson_(Earth-616)   \n",
      "...                                                         ...   \n",
      "2013           http://marvel.wikia.com/Eric_Brooks_(Earth-616)#   \n",
      "2014          http://marvel.wikia.com/Adam_Brashear_(Earth-6...   \n",
      "2014          http://marvel.wikia.com/Victor_Alvarez_(Earth-...   \n",
      "2014             http://marvel.wikia.com/Ava_Ayala_(Earth-616)#   \n",
      "2015                 http://marvel.wikia.com/Kaluu_(Earth-616)#   \n",
      "\n",
      "                                   nombre  n_apariciones actual  genero  \\\n",
      "fecha_inicio                                                              \n",
      "1963            Henry Jonathan \"Hank\" Pym           1269    YES    MALE   \n",
      "1963                       Janet van Dyne           1165    YES  FEMALE   \n",
      "1963          Anthony Edward \"Tony\" Stark           3068    YES    MALE   \n",
      "1963                  Robert Bruce Banner           2089    YES    MALE   \n",
      "1963                         Thor Odinson           2402    YES    MALE   \n",
      "...                                   ...            ...    ...     ...   \n",
      "2013                          Eric Brooks            198    YES    MALE   \n",
      "2014                        Adam Brashear             29    YES    MALE   \n",
      "2014                       Victor Alvarez             45    YES    MALE   \n",
      "2014                            Ava Ayala             49    YES  FEMALE   \n",
      "2015                                Kaluu             35    YES    MALE   \n",
      "\n",
      "                                                          Notes  \n",
      "fecha_inicio                                                     \n",
      "1963          Merged with Ultron in Rage of Ultron Vol. 1. A...  \n",
      "1963          Dies in Secret Invasion V1:I8. Actually was se...  \n",
      "1963          Death: \"Later while under the influence of Imm...  \n",
      "1963          Dies in Ghosts of the Future arc. However \"he ...  \n",
      "1963          Dies in Fear Itself brought back because that'...  \n",
      "...                                                         ...  \n",
      "2013                                                        NaN  \n",
      "2014                                                        NaN  \n",
      "2014                                                        NaN  \n",
      "2014                                                        NaN  \n",
      "2015                                                        NaN  \n",
      "\n",
      "[173 rows x 6 columns]\n"
     ]
    }
   ],
   "source": [
    "# Cambia el indice a la columna \"fecha_inicio\".\n",
    "\n",
    "import pandas as pd\n",
    "\n",
    "# Para leer el archivo CSV y crear el DataFrame\n",
    "data_path = 'C:/Users/KIARA/Desktop/PC56/avengers.csv'\n",
    "df = pd.read_csv(data_path)\n",
    "\n",
    "# Para cambiar el índice a la columna \"fecha_inicio\"\n",
    "df.set_index('fecha_inicio', inplace=True)\n",
    "\n",
    "# Para imprimir el DataFrame con el nuevo índice\n",
    "print(df)\n",
    "\n"
   ]
  },
  {
   "cell_type": "markdown",
   "metadata": {},
   "source": [
    "# Ordenar el indice"
   ]
  },
  {
   "cell_type": "code",
   "execution_count": 9,
   "metadata": {
    "tags": []
   },
   "outputs": [
    {
     "name": "stdout",
     "output_type": "stream",
     "text": [
      "                                                   URL  \\\n",
      "172         http://marvel.wikia.com/Kaluu_(Earth-616)#   \n",
      "171     http://marvel.wikia.com/Ava_Ayala_(Earth-616)#   \n",
      "170  http://marvel.wikia.com/Victor_Alvarez_(Earth-...   \n",
      "169  http://marvel.wikia.com/Adam_Brashear_(Earth-6...   \n",
      "168   http://marvel.wikia.com/Eric_Brooks_(Earth-616)#   \n",
      "..                                                 ...   \n",
      "4     http://marvel.wikia.com/Thor_Odinson_(Earth-616)   \n",
      "3    http://marvel.wikia.com/Robert_Bruce_Banner_(E...   \n",
      "2    http://marvel.wikia.com/Anthony_Stark_(Earth-616)   \n",
      "1    http://marvel.wikia.com/Janet_van_Dyne_(Earth-...   \n",
      "0        http://marvel.wikia.com/Henry_Pym_(Earth-616)   \n",
      "\n",
      "                          nombre  n_apariciones actual  genero  fecha_inicio  \\\n",
      "172                        Kaluu             35    YES    MALE          2015   \n",
      "171                    Ava Ayala             49    YES  FEMALE          2014   \n",
      "170               Victor Alvarez             45    YES    MALE          2014   \n",
      "169                Adam Brashear             29    YES    MALE          2014   \n",
      "168                  Eric Brooks            198    YES    MALE          2013   \n",
      "..                           ...            ...    ...     ...           ...   \n",
      "4                   Thor Odinson           2402    YES    MALE          1963   \n",
      "3            Robert Bruce Banner           2089    YES    MALE          1963   \n",
      "2    Anthony Edward \"Tony\" Stark           3068    YES    MALE          1963   \n",
      "1                 Janet van Dyne           1165    YES  FEMALE          1963   \n",
      "0      Henry Jonathan \"Hank\" Pym           1269    YES    MALE          1963   \n",
      "\n",
      "                                                 Notes  \n",
      "172                                                NaN  \n",
      "171                                                NaN  \n",
      "170                                                NaN  \n",
      "169                                                NaN  \n",
      "168                                                NaN  \n",
      "..                                                 ...  \n",
      "4    Dies in Fear Itself brought back because that'...  \n",
      "3    Dies in Ghosts of the Future arc. However \"he ...  \n",
      "2    Death: \"Later while under the influence of Imm...  \n",
      "1    Dies in Secret Invasion V1:I8. Actually was se...  \n",
      "0    Merged with Ultron in Rage of Ultron Vol. 1. A...  \n",
      "\n",
      "[173 rows x 7 columns]\n"
     ]
    }
   ],
   "source": [
    "# Ordena el índice de forma descendiente\n",
    "import pandas as pd\n",
    "\n",
    "# Para leer el archivo CSV y crear el DataFrame\n",
    "data_path = 'C:/Users/KIARA/Desktop/PC56/avengers.csv'\n",
    "df = pd.read_csv(data_path)\n",
    "\n",
    "# Para ordenar el índice en orden descendente\n",
    "df.sort_index(ascending=False, inplace=True)\n",
    "\n",
    "# Para imprimir el DataFrame con el índice ordenado\n",
    "print(df)\n"
   ]
  },
  {
   "cell_type": "markdown",
   "metadata": {},
   "source": [
    "# Resetear el indice"
   ]
  },
  {
   "cell_type": "code",
   "execution_count": 10,
   "metadata": {
    "tags": []
   },
   "outputs": [
    {
     "name": "stdout",
     "output_type": "stream",
     "text": [
      "                                                   URL  \\\n",
      "0        http://marvel.wikia.com/Henry_Pym_(Earth-616)   \n",
      "1    http://marvel.wikia.com/Janet_van_Dyne_(Earth-...   \n",
      "2    http://marvel.wikia.com/Anthony_Stark_(Earth-616)   \n",
      "3    http://marvel.wikia.com/Robert_Bruce_Banner_(E...   \n",
      "4     http://marvel.wikia.com/Thor_Odinson_(Earth-616)   \n",
      "..                                                 ...   \n",
      "168   http://marvel.wikia.com/Eric_Brooks_(Earth-616)#   \n",
      "169  http://marvel.wikia.com/Adam_Brashear_(Earth-6...   \n",
      "170  http://marvel.wikia.com/Victor_Alvarez_(Earth-...   \n",
      "171     http://marvel.wikia.com/Ava_Ayala_(Earth-616)#   \n",
      "172         http://marvel.wikia.com/Kaluu_(Earth-616)#   \n",
      "\n",
      "                          nombre  n_apariciones actual  genero  fecha_inicio  \\\n",
      "0      Henry Jonathan \"Hank\" Pym           1269    YES    MALE          1963   \n",
      "1                 Janet van Dyne           1165    YES  FEMALE          1963   \n",
      "2    Anthony Edward \"Tony\" Stark           3068    YES    MALE          1963   \n",
      "3            Robert Bruce Banner           2089    YES    MALE          1963   \n",
      "4                   Thor Odinson           2402    YES    MALE          1963   \n",
      "..                           ...            ...    ...     ...           ...   \n",
      "168                  Eric Brooks            198    YES    MALE          2013   \n",
      "169                Adam Brashear             29    YES    MALE          2014   \n",
      "170               Victor Alvarez             45    YES    MALE          2014   \n",
      "171                    Ava Ayala             49    YES  FEMALE          2014   \n",
      "172                        Kaluu             35    YES    MALE          2015   \n",
      "\n",
      "                                                 Notes  \n",
      "0    Merged with Ultron in Rage of Ultron Vol. 1. A...  \n",
      "1    Dies in Secret Invasion V1:I8. Actually was se...  \n",
      "2    Death: \"Later while under the influence of Imm...  \n",
      "3    Dies in Ghosts of the Future arc. However \"he ...  \n",
      "4    Dies in Fear Itself brought back because that'...  \n",
      "..                                                 ...  \n",
      "168                                                NaN  \n",
      "169                                                NaN  \n",
      "170                                                NaN  \n",
      "171                                                NaN  \n",
      "172                                                NaN  \n",
      "\n",
      "[173 rows x 7 columns]\n"
     ]
    }
   ],
   "source": [
    "# Resetea el índice\n",
    "\n",
    "import pandas as pd\n",
    "\n",
    "# Para leer el archivo CSV y crear el DataFrame\n",
    "data_path = 'C:/Users/KIARA/Desktop/PC56/avengers.csv'\n",
    "df = pd.read_csv(data_path)\n",
    "\n",
    "# Para restablecer el índice\n",
    "df.reset_index(drop=True, inplace=True)\n",
    "\n",
    "# Para imprimir el DataFrame con el índice restablecido\n",
    "print(df)\n"
   ]
  }
 ],
 "metadata": {
  "kernelspec": {
   "display_name": "Python 3 (ipykernel)",
   "language": "python",
   "name": "python3"
  },
  "language_info": {
   "codemirror_mode": {
    "name": "ipython",
    "version": 3
   },
   "file_extension": ".py",
   "mimetype": "text/x-python",
   "name": "python",
   "nbconvert_exporter": "python",
   "pygments_lexer": "ipython3",
   "version": "3.10.9"
  }
 },
 "nbformat": 4,
 "nbformat_minor": 4
}
